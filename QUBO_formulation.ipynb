{
 "cells": [
  {
   "cell_type": "markdown",
   "id": "1d03ebad",
   "metadata": {},
   "source": [
    "# QUBO Formulation for Quantum Credit Scoring"
   ]
  },
  {
   "cell_type": "markdown",
   "id": "b2d59e23",
   "metadata": {},
   "source": [
    "In the previous reports of the project, spcifically for the WP5, we defined the QUBO forumulation for the rating scale definition problem. The aim of the project is to divide $n$ counterparts in $m$ grades in accordance with several constraints. \n",
    "\n",
    "In this notebook we provide the toy model development of the cost function and several remarks about it. Moreover, we solve the problem with different methods checking if the achieved solutions satisfy all the requested constraints."
   ]
  },
  {
   "cell_type": "markdown",
   "id": "2e379e8c",
   "metadata": {},
   "source": [
    "## Libraries and iperparameters definition"
   ]
  },
  {
   "cell_type": "code",
   "execution_count": 32,
   "id": "0d3246d4",
   "metadata": {},
   "outputs": [],
   "source": [
    "import dimod\n",
    "import hybrid\n",
    "import math\n",
    "import time\n",
    "import itertools"
   ]
  },
  {
   "cell_type": "code",
   "execution_count": 33,
   "id": "a6c0d609",
   "metadata": {},
   "outputs": [],
   "source": [
    "config = {\n",
    "    'random_data': 'yes',       # select 'yes' to generate random dataset\n",
    "    'data_path': 'data/dataset-ispq.csv', # could be omitted to generate random data\n",
    "    'default_prob': 0.4,        # probability of default (range: 0 - 1)\n",
    "\n",
    "    'attributes': {             # select optional attributes from the database\n",
    "        'years': [2012, 2015],  # list of (not consecutive) years from 2012 to 2020, [] = ignore attribute\n",
    "        'sector': 'no',\n",
    "        'revenue': 'no',\n",
    "        'geo_area': 'no',\n",
    "    },\n",
    "\n",
    "    'n_counterpart': 10,      # could be a number or 'all'\n",
    "    'm_company': 4,\n",
    "\n",
    "    'alpha_concentration': 0.05,\n",
    "    'alpha_heterogeneity': 0.01,\n",
    "    'alpha_homogeneity': 0.05,\n",
    "\n",
    "    'shots': 100000,\n",
    "\n",
    "    'constraints': {\n",
    "        'one_class': True,\n",
    "        'logic': True,\n",
    "        'conentration': True,\n",
    "        'min_thr': True,\n",
    "        'max_thr': True,\n",
    "        'monotonicity': True,\n",
    "    },\n",
    "\n",
    "    'test': {\n",
    "        'logic': True,\n",
    "        'conentration': True,\n",
    "        'min_thr': True,\n",
    "        'max_thr': True,\n",
    "        'monotonicity': True,\n",
    "        'heterogeneity': False,\n",
    "        'homogeneity': False,\n",
    "    },\n",
    "\n",
    "    'mu': {\n",
    "        'one_calss': 100,\n",
    "        'logic': 100,\n",
    "        'concentration': 20,\n",
    "        'min_thr': 10,\n",
    "        'max_thr': 10,\n",
    "        'monotonicity': 10,\n",
    "    }\n",
    "}"
   ]
  },
  {
   "cell_type": "markdown",
   "id": "fffa2dd4",
   "metadata": {},
   "source": [
    "## Constraints definitions\n",
    "\n",
    "Sections 1, 2 and 3 of the WP5 report describe the financial constraints description for the rating scale definition problem. Chapter 6 reports their mathematical definition for the QUBO formulation.\n",
    "Following these studies, in the following sections we implement the functions for the problem's constraints, specifically:\n",
    "* **Logic constraint**: the result of the QUBO problem must be a binary staircase matrix;\n",
    "* **Monotonicity constraint**: the default rate of the grades increases as the grade index increases;\n",
    "* **Concentration constraint**: the counterparts are divided into grades to avoid high concentrations;\n",
    "* **Grade cardinality threshold constraints**: the number of counterparts per grade is limited from above and below.\n",
    "\n",
    "We provide a brief description of the code for each constraint, especially for those that required slight changes from what was described in the report.\n",
    "\n",
    "We considered not implementing the heterogeneity constraint in the cost function because the number of variables introduced to solve this constraint alone would make the entire problem intractable. As with the homogeneity test described in Chapter 4 of the WP5 report, we decided to implement only the test for this constraint."
   ]
  },
  {
   "cell_type": "markdown",
   "id": "fc04afec",
   "metadata": {},
   "source": [
    "### Logic constraint\n",
    "\n",
    "Prova"
   ]
  },
  {
   "cell_type": "code",
   "execution_count": 34,
   "id": "f34d7d87",
   "metadata": {},
   "outputs": [],
   "source": [
    "def one_class_const(m, n, mu=1):\n",
    "    Q = np.zeros([n*m, n*m])\n",
    "    c = 0\n",
    "\n",
    "    # penalty: \"one counterpart per class\"\n",
    "    for ii in range(n):\n",
    "        for jj in range(m):\n",
    "            tt = ii*m+jj\n",
    "            Q[tt][tt] += -1\n",
    "        for jj in range(m-1):\n",
    "            for kk in range(jj+1,m):\n",
    "                tt = ii*m+jj\n",
    "                rr = ii*m+kk\n",
    "                Q[tt][rr] += 1\n",
    "                Q[rr][tt] += 1\n",
    "        c += 1\n",
    "    return (mu*Q, mu*c)\n",
    "    \n",
    "def first_counterpart_const(m, n, mu=1):\n",
    "    Q = np.zeros([n*m, n*m])\n",
    "    \n",
    "    # penalty: \"first counterpart in first class\"\n",
    "    for jj in range(1, m):\n",
    "        Q[jj][jj] += 1\n",
    "        Q[0][jj] -= 0.5\n",
    "        Q[jj][0] -= 0.5\n",
    "    return mu*Q\n",
    "\n",
    "def last_counterpart_const(m, n, mu=1):\n",
    "    Q = np.zeros([n*m, n*m])\n",
    "\n",
    "    # penalty: \"last counterpart in the last class\"\n",
    "    for jj in range(m-1):\n",
    "        tt = (n-1)*m+jj\n",
    "        Q[tt][tt] += 1\n",
    "        Q[(n*m)-1][tt] -= 0.5\n",
    "        Q[tt][(n*m)-1] -= 0.5\n",
    "    return mu*Q\n",
    "\n",
    "def staircase_constr(m, n, mu=1):\n",
    "    Q = first_counterpart_const(m,n) + last_counterpart_const(m,n)\n",
    "\n",
    "    # penalty: \"penalize not permitted submatrix\"\n",
    "    # a submatrix is\n",
    "    # [[x1, x1], [x3, x4]]\n",
    "    for ii in range(n-1):\n",
    "        for jj in range(m-1):\n",
    "            x1 = ii*m+jj\n",
    "            x2 = x1+1\n",
    "            x3 = (ii+1)*m+jj\n",
    "            x4 = x3+1\n",
    "\n",
    "            # add linear terms\n",
    "            Q[x1][x1] += 1\n",
    "            Q[x4][x4] += 1\n",
    "\n",
    "            # add quadratic terms\n",
    "            Q[x1][x2] += 0.5\n",
    "            Q[x2][x1] += 0.5\n",
    "\n",
    "            Q[x1][x3] -= 0.5\n",
    "            Q[x3][x1] -= 0.5\n",
    "\n",
    "            Q[x1][x4] -= 1\n",
    "            Q[x4][x1] -= 1\n",
    "\n",
    "            Q[x2][x3] += 0.5\n",
    "            Q[x3][x2] += 0.5\n",
    "\n",
    "            Q[x2][x4] -= 0.5\n",
    "            Q[x4][x2] -= 0.5\n",
    "\n",
    "            Q[x3][x4] += 0.5\n",
    "            Q[x4][x3] += 0.5\n",
    "\n",
    "    # penalty: \"penalize restarting from class 0\"\n",
    "    for ii in range(n-1):\n",
    "        x1 = ii*m\n",
    "        x2 = x1+1\n",
    "        x3 = (ii+1)*m\n",
    "\n",
    "        Q[x3][x3] += 1\n",
    "\n",
    "        Q[x1][x3] -= 0.5\n",
    "        Q[x3][x1] -= 0.5\n",
    "\n",
    "        Q[x2][x3] -= 0.5\n",
    "        Q[x3][x2] -= 0.5\n",
    "\n",
    "        Q[x1][x2] += 0.5\n",
    "        Q[x2][x1] += 0.5\n",
    "\n",
    "    return mu*Q"
   ]
  },
  {
   "cell_type": "markdown",
   "id": "66c07bba",
   "metadata": {},
   "source": [
    "### Monotonicity constraint\n",
    "\n",
    "Prova"
   ]
  },
  {
   "cell_type": "code",
   "execution_count": null,
   "id": "870aa459",
   "metadata": {},
   "outputs": [],
   "source": [
    "def monotonicity():\n",
    "    \n",
    "    return"
   ]
  },
  {
   "cell_type": "markdown",
   "id": "cf34baee",
   "metadata": {},
   "source": [
    "### Concentration constraint\n",
    "\n",
    "Prova"
   ]
  },
  {
   "cell_type": "code",
   "execution_count": 35,
   "id": "11138f9e",
   "metadata": {},
   "outputs": [],
   "source": [
    "def concentration_constr(m, n, mu=1):\n",
    "    Q = np.zeros([n*m, n*m])\n",
    "\n",
    "    u = np.zeros([n * n * m, 2], dtype=int)\n",
    "    index = 0\n",
    "    for i1 in range(n):\n",
    "        for i2 in range(n):\n",
    "            for j in range(m):\n",
    "                u[index] = [(i1)*m+j, (i2)*m+j]\n",
    "                index += 1\n",
    "\n",
    "    # penalty: \"concentration\"\n",
    "    c = 1/(1-m)\n",
    "    gamma = m/(m-1)\n",
    "    for (u1, u2) in u:\n",
    "        if u1==u2:\n",
    "            Q[u1][u2] += gamma\n",
    "        else:\n",
    "            Q[u1][u2] += gamma/2\n",
    "\n",
    "    return (mu*Q, mu*c)"
   ]
  },
  {
   "cell_type": "markdown",
   "id": "4ff2f1d6",
   "metadata": {},
   "source": [
    "### Grade cardinality threshold constraint\n",
    "\n",
    "Prova"
   ]
  },
  {
   "cell_type": "code",
   "execution_count": 36,
   "id": "3f855327",
   "metadata": {},
   "outputs": [],
   "source": [
    "def compute_lower_thrs(n):\n",
    "    return math.floor(n*0.01) if math.floor(n*0.01) != 0 else 1\n",
    "\n",
    "def compute_upper_thrs(n, grades):\n",
    "    return math.floor(n*0.15) if grades > 7 and math.floor(n*0.15) != 0 else (n-grades+1)\n",
    "    \n",
    "def threshold_constr(m, n, offset, minmax, mu=1):\n",
    "\n",
    "    if minmax == 'min':\n",
    "        thr = compute_lower_thrs(n)\n",
    "        slack_vars = math.floor(1+math.log2(n-thr)) # to check\n",
    "    elif minmax == 'max':\n",
    "        thr = compute_upper_thrs(n, m)\n",
    "        slack_vars = math.floor(1+math.log2(thr)) # to check\n",
    "    else:\n",
    "        print(\"Error in threshold function call\")\n",
    "        sys.exit(1)\n",
    "\n",
    "    # initialize Q and c\n",
    "    dim = offset+slack_vars*m\n",
    "    Q = np.zeros([dim, dim])\n",
    "    c = m * thr * thr\n",
    "\n",
    "    for i1 in range(n):\n",
    "        for i2 in range(n):\n",
    "            for j in range(m):\n",
    "                u2 = [i1*m+j, i2*m+j]\n",
    "                if u2[0]==u2[1]: # questo l'ho modificato, forse c'era un typo\n",
    "                    Q[u2[0]][u2[1]] += 1\n",
    "                else:\n",
    "                    Q[u2[0]][u2[1]] += 0.5\n",
    "                    Q[u2[1]][u2[0]] += 0.5\n",
    "\n",
    "    for l1 in range(slack_vars):\n",
    "        for l2 in range(slack_vars):\n",
    "            for j in range(m):\n",
    "                v2 = [l1*m+j, l2*m+j]\n",
    "                tmp = math.pow(2,math.floor((v2[0]+1)/m)+math.floor((v2[1]+1)/m))\n",
    "                if v2[0]==v2[1]:\n",
    "                    Q[offset+v2[0]][offset+v2[1]] += tmp\n",
    "                else:\n",
    "                    Q[offset+v2[0]][offset+v2[1]] += 0.5*tmp\n",
    "                    Q[offset+v2[1]][offset+v2[0]] += 0.5*tmp\n",
    "\n",
    "\n",
    "    for i in range(n):\n",
    "        for j in range(m):\n",
    "            u = i*m+j\n",
    "            Q[u,u] -= 2*thr\n",
    "\n",
    "    index = 0\n",
    "    for l in range(slack_vars):\n",
    "        for j in range(m):\n",
    "            Q[offset+index][offset+index] += thr*math.pow(2,1+math.floor((l*m+j+1)/m))\n",
    "            index += 1\n",
    "\n",
    "    for i in range(n):\n",
    "        for l in range(slack_vars):\n",
    "            for j in range(m):\n",
    "                w2 = [i*m+j, l*m+j]\n",
    "                tmp = math.pow(2,1+math.floor((w2[1]+1)/m))\n",
    "                Q[w2[0]][offset+w2[1]] -= -0.5*tmp\n",
    "                Q[offset+w2[1]][w2[0]] -= -0.5*tmp\n",
    "\n",
    "    return (mu*Q, mu*c)"
   ]
  },
  {
   "cell_type": "markdown",
   "id": "4fa39486",
   "metadata": {},
   "source": [
    "## Test the constraints\n",
    "\n",
    "In the file `check_constraint.py` we implemented the tests for all the constraints described in the report: given a matrix and the appropriate iperparameters, one function per constraint tests if that matrix fulfill that specific requirement.\n",
    "\n",
    "All the functions are commented appropriately so we refer the reader directly to the code for further details."
   ]
  },
  {
   "cell_type": "code",
   "execution_count": 37,
   "id": "14252fd1",
   "metadata": {},
   "outputs": [],
   "source": [
    "from src.check_constraints import *"
   ]
  },
  {
   "cell_type": "markdown",
   "id": "34cffa80",
   "metadata": {},
   "source": [
    "## Solve the QUBO formulation\n",
    "\n",
    "(TO FIX FROM HERE)"
   ]
  },
  {
   "cell_type": "code",
   "execution_count": null,
   "id": "ec1b733e",
   "metadata": {},
   "outputs": [],
   "source": [
    "def from_matrix_to_bqm(matrix, c):\n",
    "    \n",
    "    Q_dict = {(i, j): matrix[i, j] for i in range(matrix.shape[0]) for j in range(matrix.shape[1])}# if matrix[i, j] != 0}\n",
    "    #print(Q_dict)\n",
    "    bqm = dimod.BinaryQuadraticModel.from_qubo(Q_dict, c)\n",
    "\n",
    "    return bqm\n",
    "\n",
    "def exact_solver(bqm):\n",
    "    \n",
    "    sampler = dimod.ExactSolver()\n",
    "    sampleset = sampler.sample(bqm)\n",
    "\n",
    "    return sampleset\n",
    "\n",
    "def annealer_solver(dim, bqm, shots):\n",
    "\n",
    "    # Set up the sampler with an initial state\n",
    "    sampler = hybrid.samplers.SimulatedAnnealingProblemSampler(num_sweeps=shots)\n",
    "    state = hybrid.core.State.from_sample({i: 0 for i in range(dim)}, bqm)\n",
    " \n",
    "    # Sample the problem\n",
    "    new_state = sampler.run(state).result()\n",
    " \n",
    "    return new_state\n",
    "\n",
    "def brute_force_solver(Q, c, dim):\n",
    "\n",
    "    # compute C(Y) = (Y^T)QY + (G^T)Y + c for every Y\n",
    "    Ylist = list(itertools.product([0, 1], repeat=dim))\n",
    "    Cmin = float('inf')\n",
    "\n",
    "    for ii in range(len(Ylist)):\n",
    "        Y = np.array(Ylist[ii])\n",
    "        Cy=(Y.dot(Q).dot(Y.transpose()))+c\n",
    "        if ( Cy < Cmin ):\n",
    "            Cmin = Cy\n",
    "            Ymin = Y.copy()\n",
    "    \n",
    "    return (np.array(Ymin), Cmin)"
   ]
  },
  {
   "cell_type": "code",
   "execution_count": null,
   "id": "1a50d1b9",
   "metadata": {},
   "outputs": [
    {
     "name": "stdout",
     "output_type": "stream",
     "text": [
      "Matrix size:(16, 16)\n",
      "Time of generation: 0.0002841545 s\n"
     ]
    }
   ],
   "source": [
    "# Gen Q matrix\n",
    "start_time = time.perf_counter_ns()\n",
    "Q = np.zeros([m*n, m*n])\n",
    "c = 0\n",
    "if constr_one_class == True:\n",
    "    (Q_one_class,c_one_class) = one_class_const(m,n,mu_one_calss)\n",
    "    Q = Q + Q_one_class\n",
    "    c = c + c_one_class\n",
    "if constr_logic == True:\n",
    "    Q = Q + staircase_constr(m,n,mu_logic)\n",
    "if constr_conentration == True:\n",
    "    (Q_conc,c_conc) = concentration_constr(m, n, mu_concentration)\n",
    "    Q = Q + Q_conc\n",
    "    c = c + c_conc\n",
    "if constr_min_thr == True:\n",
    "    (Q_min_thr, c_min_thr) = threshold_constr(m, n, Q.shape[0], 'min', mu_min_thr)\n",
    "    pad = Q_min_thr.shape[0] - Q.shape[0]\n",
    "    Q = np.pad(Q, pad_width=((0,pad), (0, pad)), mode='constant', constant_values=0) + Q_min_thr\n",
    "    c = c + c_min_thr\n",
    "if constr_max_thr == True:\n",
    "    (Q_max_thr, c_max_thr) = threshold_constr(m, n, Q.shape[0], 'max', mu_max_thr)\n",
    "    pad = Q_max_thr.shape[0] - Q.shape[0]\n",
    "    Q = np.pad(Q, pad_width=((0,pad), (0, pad)), mode='constant', constant_values=0) + Q_max_thr\n",
    "    c = c + c_max_thr\n",
    "\n",
    "# BQM generation\n",
    "bqm = from_matrix_to_bqm(Q, c)\n",
    "end_time = time.perf_counter_ns()\n",
    "print(f\"Matrix size:{Q.shape}\")\n",
    "print(f\"Time of generation: {(end_time - start_time)/10e9} s\")"
   ]
  },
  {
   "cell_type": "code",
   "execution_count": 15,
   "id": "52abb3bb",
   "metadata": {},
   "outputs": [
    {
     "name": "stdout",
     "output_type": "stream",
     "text": [
      "\n",
      "Brute Force result:\n",
      "[[1 0]\n",
      " [1 0]\n",
      " [0 1]\n",
      " [0 1]]\n",
      "Time of brute force solution: 0.0166132987 s\n",
      "\n"
     ]
    }
   ],
   "source": [
    "# Solving with brute force\n",
    "start_time = time.perf_counter_ns()\n",
    "(result_bf, cost) = brute_force_solver(Q,c,Q.shape[0])\n",
    "end_time = time.perf_counter_ns()\n",
    "if constr_min_thr == True:\n",
    "    result_bf = result_bf[:m*n]\n",
    "print(f\"\\nBrute Force result:\\n{result_bf.reshape(n,m)}\")\n",
    "print(f\"Time of brute force solution: {(end_time - start_time)/10e9} s\\n\")"
   ]
  },
  {
   "cell_type": "code",
   "execution_count": 16,
   "id": "699ef497",
   "metadata": {},
   "outputs": [
    {
     "name": "stdout",
     "output_type": "stream",
     "text": [
      "Exact solutions with dwave: 1\n",
      "solution:\n",
      "[[1 0]\n",
      " [1 0]\n",
      " [0 1]\n",
      " [0 1]]\n",
      "Time of all exact solutions: 0.0061611707 s\n"
     ]
    }
   ],
   "source": [
    "# Solving exactly with dwave\n",
    "start_time = time.perf_counter_ns()\n",
    "e_result = exact_solver(bqm)\n",
    "df_result = e_result.lowest().to_pandas_dataframe()\n",
    "end_time = time.perf_counter_ns()\n",
    "elapsed_time_ns = end_time - start_time\n",
    "# Print all the solutions\n",
    "result_exact_solver = df_result.iloc[:, :m*n].to_numpy()\n",
    "# print(f\"All exact solutions:\\n{df_result}\")\n",
    "print(f\"Exact solutions with dwave: {int(result_exact_solver.size/(m*n))}\")\n",
    "for sol in result_exact_solver[:]:\n",
    "    print(f\"solution:\\n{sol.reshape(n, m)}\")\n",
    "print(f\"Time of all exact solutions: {elapsed_time_ns/10e9} s\")\n",
    "# print(f\"First solution:\\n{result_exact_solver[0].reshape(n, m)}\")"
   ]
  },
  {
   "cell_type": "code",
   "execution_count": 17,
   "id": "d41e6c09",
   "metadata": {},
   "outputs": [
    {
     "name": "stdout",
     "output_type": "stream",
     "text": [
      "\n",
      "Annealing result:\n",
      "[[1 0]\n",
      " [1 0]\n",
      " [0 1]\n",
      " [0 1]]\n",
      "Time of annealing solution: 0.0029548517 s\n",
      "\n"
     ]
    }
   ],
   "source": [
    "# Solving with annealing \n",
    "start_time = time.perf_counter_ns()\n",
    "result = annealer_solver(Q.shape[0], bqm, shots)\n",
    "end_time = time.perf_counter_ns()\n",
    "result_ann = np.array([int(x) for x in result.samples.first.sample.values()])[:m*n]\n",
    "annealing_matrix = result_ann.reshape(n, m)\n",
    "print(f\"\\nAnnealing result:\\n{annealing_matrix}\")    \n",
    "print(f\"Time of annealing solution: {(end_time - start_time)/10e9} s\\n\")"
   ]
  },
  {
   "cell_type": "code",
   "execution_count": null,
   "id": "26503575",
   "metadata": {},
   "outputs": [
    {
     "name": "stdout",
     "output_type": "stream",
     "text": [
      "Result validation:\n",
      "Staircase matrix constraint checked\n",
      "Concentration constraint checked\n",
      "Lower threshold limit constraint checked\n",
      "Upper threshold limit constraint checked\n"
     ]
    },
    {
     "data": {
      "text/plain": [
       "True"
      ]
     },
     "execution_count": 18,
     "metadata": {},
     "output_type": "execute_result"
    }
   ],
   "source": [
    "print(\"Result validation:\")\n",
    "verbose = True\n",
    "check_staircase(annealing_matrix, verbose)\n",
    "check_concentration(annealing_matrix, alpha_concentration, verbose)\n",
    "check_lower_thrs(annealing_matrix, compute_lower_thrs(n), verbose)\n",
    "check_upper_thrs(annealing_matrix, compute_upper_thrs(n,m), verbose)"
   ]
  }
 ],
 "metadata": {
  "kernelspec": {
   "display_name": "qcs",
   "language": "python",
   "name": "python3"
  },
  "language_info": {
   "codemirror_mode": {
    "name": "ipython",
    "version": 3
   },
   "file_extension": ".py",
   "mimetype": "text/x-python",
   "name": "python",
   "nbconvert_exporter": "python",
   "pygments_lexer": "ipython3",
   "version": "3.13.2"
  }
 },
 "nbformat": 4,
 "nbformat_minor": 5
}
