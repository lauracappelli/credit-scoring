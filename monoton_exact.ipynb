{
  "cells": [
    {
      "cell_type": "markdown",
      "metadata": {
        "id": "8DI1KrbIxJQw"
      },
      "source": [
        "\n",
        "\n",
        "Monotonicity ($m-1$ inequalities)\n",
        "\n"
      ]
    },
    {
      "cell_type": "markdown",
      "metadata": {
        "id": "_VkvdlkK17UY"
      },
      "source": [
        "\\begin{align}\n",
        "\t\\Xi^{(1)}(x,y,s,s_y) =&\n",
        "\t\\sum_{ (u_1,u_2) \\in U_2}\n",
        "\t\\bigg[\n",
        "\t\\lambda_1y_{t(u_1, u_2)} \\cdot (1-x_{u_1})+\\lambda_2 y_{t(u_1, u_2)} \\cdot (1-x_{u_2+1}) \\nonumber\\\\&\n",
        "\t+\\lambda_3 \\cdot\n",
        "\t(1-x_{u_1}-x_{u_2 +1}+3y_{t(u_1, u_2)}-s_{0t(u_1, u_2)} + 2 x_{u_1} x_{u_2 +1}- 2x_{u_1} y_{t(u_1, u_2)}\n",
        "\t\\nonumber\\\\&+ 2 x_{u_1} s_{0 t(u_1, u_2)}\n",
        "\t+4  x_{u_1}  s_{1 t(u_1, u_2)}\n",
        "\t-2 x_{u_2 +1}y_{t(u_1, u_2)}+2x_{u_2 +1} s_{0t(u_1, u_2)}\\nonumber\\\\&+4 x_{u_2 +1}s_{1t(u_1, u_2)}-2 y_{t(u_1, u_2)} s_{0t(u_1, u_2)}-4y_{t(u_1, u_2)}s_{1t(u_1, u_2)}+\n",
        "\t4s_{0t(u_1, u_2)}s_{1t(u_1, u_2)})\n",
        "\t\\bigg]\\nonumber\\\\&\n",
        "\t+  \n",
        "\t\\sum_{(u_1,u_2,u_3,u_4)  \\in U_4} \\lambda_4 y_{t(u_2,u_1)} y_{t(u_4,u_3)}\n",
        "\t+\\sum_{(u_1,u_2,u_3,u_4)  \\in U_4} \\lambda_4 y_{t(u_1,u_2)} y_{t(u_3,u_4)}\\nonumber\\\\&\n",
        "\t+\\sum_{(v_1,v_2) \\in V_2} 2^{l(v_1)+l(v_2)}\\lambda_4 s_{yv_1}s_{y v_2}\n",
        "\t+\\sum_{(u_1,u_2,u_3,u_4)  \\in U_4} (-2)\\lambda_4 y_{t(u_2,u_1)} y_{t(u_3,u_4)}\\nonumber\\\\&\n",
        "\t+\\sum_{(u_1,u_2,v) \\in H }2^{l(v)+1}\\lambda_4 y_{t(u_2,u_1)}s_{y v}\n",
        "\t+\\sum_{(u_1,u_2,v) \\in H }(-1) 2^{l(v)+1} \\lambda_4y_{t(u_1,u_2)}s_{y v}   \n",
        "\\end{align}\n",
        "\n",
        "$x \\in \\mathbb{B}^{nm}$,\n",
        "$y \\in \\mathbb{B}^{2(m-1)(n-d)d}$,\n",
        "$s_0 \\in \\mathbb{B}^{2(m-1)(n-d)d}$, $s_1 \\in \\mathbb{B}^{2(m-1)(n-d)d}$,\n",
        "$s_y \\in \\mathbb{B}^{(m-1) N_y }$\n"
      ]
    },
    {
      "cell_type": "code",
      "execution_count": 1,
      "metadata": {
        "id": "StBIumXO14PG"
      },
      "outputs": [
        {
          "name": "stdout",
          "output_type": "stream",
          "text": [
            "default vector:  [0, 0, 1, 1, 0]\n",
            "number of counterparts:  5\n",
            "number of classes:  3\n",
            "vector of default values:  [0, 0, 1, 1, 0]\n",
            "num of default:  2\n",
            "dimension of the problem:  93\n",
            "lambda coefficients:\n",
            "10, 10, 10, 50, 100\n"
          ]
        }
      ],
      "source": [
        "import numpy as np\n",
        "import math\n",
        "import random\n",
        "n=5; m=3\n",
        "d_modul = 2\n",
        "#d_vec = [0,0,1,0,1,1]\n",
        "def random_no_prob(n,d_modul):\n",
        "  d = [0] * n\n",
        "  indices_to_set_to_one = random.sample(range(n), d_modul)\n",
        "  for index in indices_to_set_to_one:\n",
        "      d[index] = 1\n",
        "  return d\n",
        "d_vec = random_no_prob(n,d_modul)\n",
        "#d_vec = [0,0,0,0,1]\n",
        "print(\"default vector: \",d_vec)\n",
        "d = sum(d_vec)\n",
        "param = (n-d)*d\n",
        "N_y = math.floor(1+math.log2(param))\n",
        "dim_y = 2*(m-1)*(n-d)*d #also dim_s_0 and dim_s_1\n",
        "dim_sy = N_y*(m-1)\n",
        "offset1 = n*m\n",
        "offset2 = n*m + dim_y\n",
        "offset3 = n*m + 2*dim_y\n",
        "offset4 = n*m + 3*dim_y\n",
        "##############  x   #        y      #      s_0      #      s_1\t   #   s_y\n",
        "##############  nm  #  2(m-1)(n-d)d #  2(m-1)(n-d)d # 2(m-1)(n-d)d #  (m-1)N_y\n",
        "# n=5; m=3; ##  15  #        24      #     24\t\t#\t    24     #    6\n",
        "dim_qubo =    n*m    +    dim_y      +    dim_y     +      dim_y    +   dim_sy\n",
        "#dim_qubo =    n*m\n",
        "print(\"number of counterparts: \",n)\n",
        "print(\"number of classes: \",m)\n",
        "print(\"vector of default values: \",d_vec)\n",
        "print(\"num of default: \",d)\n",
        "print(\"dimension of the problem: \", dim_qubo)\n",
        "Q = np.zeros([dim_qubo,dim_qubo])\n",
        "c = 0\n",
        "\n",
        "lambda1 = 10\n",
        "lambda2 = 10\n",
        "lambda3 = 10\n",
        "lambda4 = 50\n",
        "lambda5 = 100 #for the staircase matrix\n",
        "print(\"lambda coefficients:\")\n",
        "print(lambda1, lambda2, lambda3, lambda4,lambda5, sep=', ')"
      ]
    },
    {
      "cell_type": "markdown",
      "metadata": {},
      "source": [
        "\\begin{align}\n",
        "\tC^{-} = \\{(i_1,i_2) \\in \\mathbb{N}[1,n]^2 | d_{i_1 i_2} = -1\\}   ,\n",
        "\\end{align}\n",
        "$$\n",
        "\\begin{align}\n",
        "\tC = \\{(i_1,i_2) \\in \\mathbb{N}[1,n]^2 | d_{i_1 i_2} \\in \\{-1,+1\\} \\}\n",
        "\\end{align}\n",
        "$$"
      ]
    },
    {
      "cell_type": "code",
      "execution_count": 2,
      "metadata": {},
      "outputs": [
        {
          "name": "stdout",
          "output_type": "stream",
          "text": [
            "the list of the couples of indices corresponding to d_{i1 i2} equal to -1\n",
            "[[1, 3], [1, 4], [2, 3], [2, 4], [5, 3], [5, 4]]\n",
            "the list of the couples of indices corresponding to d_{i1 i2} different from 0 is\n",
            "[[1, 3], [1, 4], [2, 3], [2, 4], [3, 1], [3, 2], [3, 5], [4, 1], [4, 2], [4, 5], [5, 3], [5, 4]]\n"
          ]
        }
      ],
      "source": [
        "minus_set = [] #list of the couples of indices corresponding to d_{i1 i2} equal to -1\n",
        "non_zero_set = [] #list of the couples of indices corresponding to d_{i1 i2} different from 0\n",
        "for i1 in range(n):\n",
        "\tfor i2 in range(n):\n",
        "\t\tif d_vec[i1]-d_vec[i2] == -1:\n",
        "\t\t\tminus_set.append([i1+1,i2+1])\n",
        "\t\tif d_vec[i1]-d_vec[i2] != 0:\n",
        "\t\t\tnon_zero_set.append([i1+1,i2+1])\n",
        "print(\"the list of the couples of indices corresponding to d_{i1 i2} equal to -1\")\n",
        "print(minus_set)\n",
        "print(\"the list of the couples of indices corresponding to d_{i1 i2} different from 0 is\")\n",
        "print(non_zero_set)"
      ]
    },
    {
      "cell_type": "markdown",
      "metadata": {
        "id": "eOQ4Xo8c2U7b"
      },
      "source": [
        "Building the indices sets for the constraint $x_1 x_2 = y$"
      ]
    },
    {
      "cell_type": "markdown",
      "metadata": {
        "id": "1Xxp_aL8wpNs"
      },
      "source": [
        "\\begin{align}\n",
        "\tU_2 = \\{(u_1,u_2)\\in \\mathbb{N}[0,nm-2]^2|u_r = (i_r-1)m+j-1,\\ \\text{for every}\\ r\\in\\{1,2\\}, (i_1,i_2)\\in C \\}\n",
        "\\end{align}"
      ]
    },
    {
      "cell_type": "code",
      "execution_count": 3,
      "metadata": {
        "colab": {
          "base_uri": "https://localhost:8080/"
        },
        "id": "mrCv1qbXfiu0",
        "outputId": "6ede0368-f0a1-487e-e4db-67d30b10c3ea"
      },
      "outputs": [
        {
          "name": "stdout",
          "output_type": "stream",
          "text": [
            "[[0, 6], [0, 9], [3, 6], [3, 9], [6, 0], [6, 3], [6, 12], [9, 0], [9, 3], [9, 12], [12, 6], [12, 9], [1, 7], [1, 10], [4, 7], [4, 10], [7, 1], [7, 4], [7, 13], [10, 1], [10, 4], [10, 13], [13, 7], [13, 10]]\n"
          ]
        }
      ],
      "source": [
        "u2 = []\n",
        "for j in range(m-1):\n",
        "\tfor nz_item in non_zero_set:\n",
        "\t\tu2_1=(nz_item[0]-1)*m + (j+1) -1\n",
        "\t\tu2_2=(nz_item[1]-1)*m + (j+1) -1\n",
        "\t\tu2.append([u2_1,u2_2])\n",
        "print(u2)"
      ]
    },
    {
      "cell_type": "markdown",
      "metadata": {},
      "source": [
        "\\begin{align}\n",
        "\tU_4 = \\{ (u_1,u_2,u_3,u_4) \\in \\mathbb{N}[0,nm-2]^4|&u_r = (i_r-1)m+j-1, \\text{for every}\\nonumber\\\\&r\\in\\{1,2,3,4\\}, (i_1,i_2)\\in C^-, (i_3,i_4)\\in C^-\\}\n",
        "\\end{align}"
      ]
    },
    {
      "cell_type": "code",
      "execution_count": 4,
      "metadata": {},
      "outputs": [
        {
          "name": "stdout",
          "output_type": "stream",
          "text": [
            "[[0, 6, 0, 6], [0, 6, 0, 9], [0, 6, 3, 6], [0, 6, 3, 9], [0, 6, 12, 6], [0, 6, 12, 9], [0, 9, 0, 6], [0, 9, 0, 9], [0, 9, 3, 6], [0, 9, 3, 9], [0, 9, 12, 6], [0, 9, 12, 9], [3, 6, 0, 6], [3, 6, 0, 9], [3, 6, 3, 6], [3, 6, 3, 9], [3, 6, 12, 6], [3, 6, 12, 9], [3, 9, 0, 6], [3, 9, 0, 9], [3, 9, 3, 6], [3, 9, 3, 9], [3, 9, 12, 6], [3, 9, 12, 9], [12, 6, 0, 6], [12, 6, 0, 9], [12, 6, 3, 6], [12, 6, 3, 9], [12, 6, 12, 6], [12, 6, 12, 9], [12, 9, 0, 6], [12, 9, 0, 9], [12, 9, 3, 6], [12, 9, 3, 9], [12, 9, 12, 6], [12, 9, 12, 9], [1, 7, 1, 7], [1, 7, 1, 10], [1, 7, 4, 7], [1, 7, 4, 10], [1, 7, 13, 7], [1, 7, 13, 10], [1, 10, 1, 7], [1, 10, 1, 10], [1, 10, 4, 7], [1, 10, 4, 10], [1, 10, 13, 7], [1, 10, 13, 10], [4, 7, 1, 7], [4, 7, 1, 10], [4, 7, 4, 7], [4, 7, 4, 10], [4, 7, 13, 7], [4, 7, 13, 10], [4, 10, 1, 7], [4, 10, 1, 10], [4, 10, 4, 7], [4, 10, 4, 10], [4, 10, 13, 7], [4, 10, 13, 10], [13, 7, 1, 7], [13, 7, 1, 10], [13, 7, 4, 7], [13, 7, 4, 10], [13, 7, 13, 7], [13, 7, 13, 10], [13, 10, 1, 7], [13, 10, 1, 10], [13, 10, 4, 7], [13, 10, 4, 10], [13, 10, 13, 7], [13, 10, 13, 10]]\n"
          ]
        }
      ],
      "source": [
        "u4 = []\n",
        "for j in range(m-1):\n",
        "\tfor minus_item1 in minus_set:\n",
        "\t\tfor minus_item2 in minus_set:\n",
        "\t\t\tu4_1=(minus_item1[0]-1)*m + (j+1) -1\n",
        "\t\t\tu4_2=(minus_item1[1]-1)*m + (j+1) -1\n",
        "\t\t\tu4_3=(minus_item2[0]-1)*m + (j+1) -1\n",
        "\t\t\tu4_4=(minus_item2[1]-1)*m + (j+1) -1\n",
        "\t\t\tu4.append([u4_1,u4_2,u4_3,u4_4])\n",
        "print(u4)"
      ]
    },
    {
      "cell_type": "markdown",
      "metadata": {},
      "source": [
        "\\begin{align}\n",
        "\tV_2 =& \\{ (v_1 , v_2) \\in \\mathbb{N}[0,N_y \\cdot(m-1)-1] ^2|v_r = l_r \\cdot (m-1)+j-1,\\ \\text{for every}\\ r\\in\\{1,2\\}\\}\n",
        "\\end{align}"
      ]
    },
    {
      "cell_type": "code",
      "execution_count": 5,
      "metadata": {
        "id": "Dqz1DdL_HT8z"
      },
      "outputs": [
        {
          "name": "stdout",
          "output_type": "stream",
          "text": [
            "[[0, 0], [1, 1], [0, 2], [1, 3], [0, 4], [1, 5], [2, 0], [3, 1], [2, 2], [3, 3], [2, 4], [3, 5], [4, 0], [5, 1], [4, 2], [5, 3], [4, 4], [5, 5]]\n"
          ]
        }
      ],
      "source": [
        "l2j1 = []\n",
        "for l1 in range(N_y):\n",
        "\tfor l2 in range(N_y):\n",
        "\t\tfor j in range(m-1):\n",
        "\t\t\tl2j1.append([l1,l2,j+1])\n",
        "v2 = []\n",
        "for l2j1_item in l2j1:\n",
        "\tv_1 = l2j1_item[0]*(m-1) + l2j1_item[2] -1\n",
        "\tv_2 = l2j1_item[1]*(m-1) + l2j1_item[2] -1\n",
        "\tv2.append([v_1,v_2])\n",
        "print(v2)"
      ]
    },
    {
      "cell_type": "markdown",
      "metadata": {},
      "source": [
        "\\begin{align}\n",
        "\tH = \\{(u_1,u_2,v)  \\in  \\mathbb{N}[0,nm-2]^2 \\times \\mathbb{N}[0,N_y \\cdot (m-1)-1]\n",
        "\t|& u_r = (i_r-1)m+j-1,\\nonumber\\\\&v=l\\cdot (m-1)+j-1 \\nonumber\\\\& \\text{for every}\\ r \\in \\{1,2\\}, \\ (i_1,i_2)\\in C^-  \\}\n",
        "\\end{align}"
      ]
    },
    {
      "cell_type": "code",
      "execution_count": 6,
      "metadata": {},
      "outputs": [
        {
          "name": "stdout",
          "output_type": "stream",
          "text": [
            "[[0, 6, 0], [0, 9, 0], [3, 6, 0], [3, 9, 0], [12, 6, 0], [12, 9, 0], [0, 6, 2], [0, 9, 2], [3, 6, 2], [3, 9, 2], [12, 6, 2], [12, 9, 2], [0, 6, 4], [0, 9, 4], [3, 6, 4], [3, 9, 4], [12, 6, 4], [12, 9, 4], [1, 7, 1], [1, 10, 1], [4, 7, 1], [4, 10, 1], [13, 7, 1], [13, 10, 1], [1, 7, 3], [1, 10, 3], [4, 7, 3], [4, 10, 3], [13, 7, 3], [13, 10, 3], [1, 7, 5], [1, 10, 5], [4, 7, 5], [4, 10, 5], [13, 7, 5], [13, 10, 5]]\n"
          ]
        }
      ],
      "source": [
        "h = []\n",
        "for j in range (m-1):\n",
        "\tfor l in range (N_y):\n",
        "\t\tfor minus_item in minus_set:\n",
        "\t\t\tu_1=(minus_item[0]-1)*m + (j+1) -1\n",
        "\t\t\tu_2=(minus_item[1]-1)*m + (j+1) -1\n",
        "\t\t\tv = l*(m-1) + (j+1) -1\n",
        "\t\t\th.append([u_1,u_2,v])\n",
        "print(h)"
      ]
    },
    {
      "cell_type": "markdown",
      "metadata": {},
      "source": [
        "\\begin{align}\n",
        "\tl(v) = \\left \\lfloor v/(m-1) \\right\\rfloor\n",
        "\\end{align}"
      ]
    },
    {
      "cell_type": "code",
      "execution_count": 7,
      "metadata": {},
      "outputs": [],
      "source": [
        "def l_func(v):\n",
        "\treturn math.floor(v/(m-1))"
      ]
    },
    {
      "cell_type": "markdown",
      "metadata": {},
      "source": [
        "\\begin{gather}\n",
        "\t\\sum_{ (u_1,u_2) \\in U_2}\n",
        "\t\\bigg[\n",
        "\t\\lambda_1y_{t(u_1, u_2)} \\cdot (1-x_{u_1})+\\lambda_2 y_{t(u_1, u_2)} \\cdot (1-x_{u_2+1})\n",
        "\t\\bigg]\n",
        "\\end{gather}"
      ]
    },
    {
      "cell_type": "code",
      "execution_count": 8,
      "metadata": {},
      "outputs": [],
      "source": [
        "for u2_item in u2:\n",
        "\tt = u2.index([u2_item[0],u2_item[1]])\n",
        "\tQ[ t + offset1 ,  t + offset1 ] += lambda1\n",
        "\n",
        "for u2_item in u2:\n",
        "\tt = u2.index([u2_item[0],u2_item[1]])\n",
        "\tQ[ t + offset1 , u2_item[0] ] += -lambda1*0.5\n",
        "\tQ[ u2_item[0], t + offset1  ] += -lambda1*0.5\n",
        "\n",
        "for u2_item in u2:\n",
        "\tt = u2.index([u2_item[0],u2_item[1]])\n",
        "\tQ[ t + offset1 ,  t + offset1 ] += lambda2\n",
        "\n",
        "for u2_item in u2:\n",
        "\tt = u2.index([u2_item[0],u2_item[1]])\n",
        "\tQ[ t + offset1 , u2_item[1]+1 ] += -lambda2*0.5\n",
        "\tQ[ u2_item[1]+1, t + offset1  ] += -lambda2*0.5"
      ]
    },
    {
      "cell_type": "markdown",
      "metadata": {},
      "source": [
        "\\begin{gather*}\n",
        "\t\\lambda_3 \\sum_{ (u_1,u_2) \\in U_2}\n",
        "\t\\bigg[\n",
        "\t1-x_{u_1}-x_{u_2 +1}+3y_{t(u_1, u_2)}-s_{0t(u_1, u_2)} + 2 x_{u_1} x_{u_2 +1}- 2x_{u_1} y_{t(u_1, u_2)}\n",
        "\t\\bigg]\n",
        "\\end{gather*}"
      ]
    },
    {
      "cell_type": "code",
      "execution_count": 9,
      "metadata": {},
      "outputs": [],
      "source": [
        "for u2_item in u2:\n",
        "\tc += lambda3\n",
        "for u2_item in u2:\n",
        "\tQ[ u2_item[0], u2_item[0] ] += -lambda3\n",
        "\tQ[ u2_item[1]+1, u2_item[1]+1 ] += -lambda3\n",
        "for u2_item in u2:\n",
        "\tt = u2.index([u2_item[0],u2_item[1]])\n",
        "\tQ[ t +offset1 , t +offset1  ] += +lambda3*3\n",
        "for u2_item in u2:\n",
        "\tt = u2.index([u2_item[0],u2_item[1]])\n",
        "\tQ[ t +offset2 , t +offset2  ] += -lambda3\n",
        "for u2_item in u2:\n",
        "\tif u2_item[0] == u2_item[1]+1:\n",
        "\t\tQ[ u2_item[0], u2_item[1]+1 ] += lambda3*2\n",
        "\telse:\n",
        "\t\tQ[ u2_item[0], u2_item[1]+1 ] += lambda3*2*0.5\n",
        "\t\tQ[ u2_item[1]+1, u2_item[0] ] += lambda3*2*0.5\n",
        "for u2_item in u2:\n",
        "\tt = u2.index([u2_item[0],u2_item[1]])\n",
        "\tQ[ u2_item[0], t + offset1 ] -= lambda3*2*0.5\n",
        "\tQ[ t + offset1 , u2_item[0] ] -= lambda3*2*0.5"
      ]
    },
    {
      "cell_type": "markdown",
      "metadata": {},
      "source": [
        "\\begin{gather*}\n",
        "\t\\lambda_3\\sum_{ (u_1,u_2) \\in U_2}\n",
        "\t\\bigg[+ 2 x_{u_1} s_{0 t(u_1, u_2)}\n",
        "\t+4  x_{u_1}  s_{1 t(u_1, u_2)}\n",
        "\t-2 x_{u_2 +1}y_{t(u_1, u_2)}+2x_{u_2 +1} s_{0t(u_1, u_2)}\n",
        "\t\\bigg]\n",
        "\\end{gather*}"
      ]
    },
    {
      "cell_type": "code",
      "execution_count": 10,
      "metadata": {},
      "outputs": [],
      "source": [
        "for u2_item in u2:\n",
        "\tt = u2.index([u2_item[0],u2_item[1]])\n",
        "\tQ[ u2_item[0], t+offset2 ]  += lambda3*2*0.5\n",
        "\tQ[ t+offset2 , u2_item[0] ] += lambda3*2*0.5\n",
        "for u2_item in u2:\n",
        "\tt = u2.index([u2_item[0],u2_item[1]])\n",
        "\tQ[ u2_item[0], t+offset3 ] += lambda3*4*0.5\n",
        "\tQ[ t+offset3 , u2_item[0] ] += lambda3*4*0.5\n",
        "for u2_item in u2:\n",
        "\tt = u2.index([u2_item[0],u2_item[1]])\n",
        "\tQ[u2_item[1]+1, t+offset1] += -lambda3*2*0.5\n",
        "\tQ[t+offset1,u2_item[1]+1]  += -lambda3*2*0.5\n",
        "for u2_item in u2:\n",
        "\tt = u2.index([u2_item[0],u2_item[1]])\n",
        "\tQ[u2_item[1]+1, t+offset2] += lambda3*2*0.5\n",
        "\tQ[ t+offset2,u2_item[1]+1] += lambda3*2*0.5"
      ]
    },
    {
      "cell_type": "markdown",
      "metadata": {},
      "source": [
        "\\begin{gather*}\n",
        "\t\\lambda_3\\sum_{ (u_1,u_2) \\in U_2}\n",
        "\t\\bigg[4 x_{u_2 +1}s_{1t(u_1, u_2)}-2 y_{t(u_1, u_2)} s_{0t(u_1, u_2)}-4y_{t(u_1, u_2)}s_{1t(u_1, u_2)}+\n",
        "\t4s_{0t(u_1, u_2)}s_{1t(u_1, u_2)}\n",
        "\t\\bigg]\n",
        "\\end{gather*}"
      ]
    },
    {
      "cell_type": "code",
      "execution_count": 11,
      "metadata": {},
      "outputs": [],
      "source": [
        "for u2_item in u2:\n",
        "\tt = u2.index([u2_item[0],u2_item[1]])\n",
        "\tQ[ u2_item[1]+1, t+offset3 ] += lambda3*4*0.5\n",
        "\tQ[ t+offset3 , u2_item[1]+1 ] += lambda3*4*0.5\n",
        "for u2_item in u2:\n",
        "\tt = u2.index([u2_item[0],u2_item[1]])\n",
        "\tQ[ t+offset1 , t+offset2 ] += -lambda3*2*0.5\n",
        "\tQ[ t+offset2 , t+offset1 ] += -lambda3*2*0.5\n",
        "for u2_item in u2:\n",
        "\tt = u2.index([u2_item[0],u2_item[1]])\n",
        "\tQ[ t+offset1 , t+offset3 ] += -lambda3*4*0.5\n",
        "\tQ[ t+offset3 , t+offset1 ] += -lambda3*4*0.5\n",
        "for u2_item in u2:\n",
        "\tt = u2.index([u2_item[0],u2_item[1]])\n",
        "\tQ[ t+offset2 , t+offset3 ] += lambda3*4*0.5\n",
        "\tQ[ t+offset3 , t+offset2 ] += lambda3*4*0.5"
      ]
    },
    {
      "cell_type": "markdown",
      "metadata": {},
      "source": [
        "\\begin{gather*}\n",
        "\t\\sum_{(u_1,u_2,u_3,u_4)  \\in U_4} \\lambda_4 y_{t(u_2,u_1)} y_{t(u_4,u_3)}\n",
        "\t+\\sum_{(u_1,u_2,u_3,u_4)  \\in U_4} \\lambda_4 y_{t(u_1,u_2)} y_{t(u_3,u_4)}\n",
        "\t+\\sum_{(v_1,v_2) \\in V_2} 2^{l(v_1)+l(v_2)}\\lambda_4 s_{yv_1}s_{y v_2}\n",
        "\\end{gather*}"
      ]
    },
    {
      "cell_type": "code",
      "execution_count": 12,
      "metadata": {},
      "outputs": [],
      "source": [
        "for u4_item in u4:\n",
        "\tu_1 = u4_item[0]; u_2 = u4_item[1]\n",
        "\tu_3 = u4_item[2]; u_4 = u4_item[3]\n",
        "\tt21 = u2.index([u_2,u_1])\n",
        "\tt43 = u2.index([u_4,u_3])\n",
        "\tif t21 == t43:\n",
        "\t\tQ[ t21+offset1 , t43+offset1 ] += lambda4\n",
        "\telse:\n",
        "\t\tQ[ t21+offset1 , t43+offset1 ] += lambda4*0.5\n",
        "\t\tQ[ t43+offset1 , t21+offset1 ] += lambda4*0.5\n",
        "for u4_item in u4:\n",
        "\tu_1 = u4_item[0]; u_2 = u4_item[1]\n",
        "\tu_3 = u4_item[2]; u_4 = u4_item[3]\n",
        "\tt12 = u2.index([u_1,u_2])\n",
        "\tt34 = u2.index([u_3,u_4])\n",
        "\tif t12 == t34:\n",
        "\t\tQ[ t12+offset1 , t34+offset1 ] += lambda4\n",
        "\telse:\n",
        "\t\tQ[ t12+offset1 , t34+offset1 ] += lambda4*0.5\n",
        "\t\tQ[ t34+offset1 , t12+offset1 ] += lambda4*0.5\n",
        "for v2_item in v2:\n",
        "\tv2_1 = v2_item[0]; v2_2 = v2_item[1]\n",
        "\tif v2_1 == v2_2:\n",
        "\t\tQ[ v2_1+offset4 , v2_2+offset4 ] += math.pow(2,l_func(v2_1)+l_func(v2_2))*lambda4\n",
        "\telse:\n",
        "\t\tQ[ v2_1+offset4 , v2_2+offset4 ] += math.pow(2,l_func(v2_1)+l_func(v2_2))*lambda4*0.5\n",
        "\t\tQ[ v2_2+offset4 , v2_1+offset4 ] += math.pow(2,l_func(v2_1)+l_func(v2_2))*lambda4*0.5"
      ]
    },
    {
      "cell_type": "markdown",
      "metadata": {},
      "source": [
        "\\begin{gather*}\n",
        "\t\\sum_{(u_1,u_2,u_3,u_4)  \\in U_4} (-2)\\lambda_4 y_{t(u_2,u_1)} y_{t(u_3,u_4)}\n",
        "\t+\\sum_{(u_1,u_2,v) \\in H }2^{l(v)+1}\\lambda_4 y_{t(u_2,u_1)}s_{y v}\n",
        "\t+\\sum_{(u_1,u_2,v) \\in H }(-1) 2^{l(v)+1} \\lambda_4y_{t(u_1,u_2)}s_{y v}\n",
        "\\end{gather*}"
      ]
    },
    {
      "cell_type": "code",
      "execution_count": 13,
      "metadata": {},
      "outputs": [],
      "source": [
        "for u4_item in u4:\n",
        "\tu_1 = u4_item[0]; u_2 = u4_item[1]\n",
        "\tu_3 = u4_item[2]; u_4 = u4_item[3]\n",
        "\tt21 = u2.index([u_2,u_1])\n",
        "\tt34 = u2.index([u_3,u_4])\n",
        "\tif t21 == t34:\n",
        "\t\tQ[  t21+offset1 , t34+offset1 ] += lambda4*(-2)\n",
        "\telse:\n",
        "\t\tQ[  t21+offset1 , t34+offset1 ] += lambda4*(-2)*0.5\n",
        "\t\tQ[  t34+offset1 , t21+offset1 ] += lambda4*(-2)*0.5\n",
        "\n",
        "for h_item in h:\n",
        "\tu_1 = h_item[0]\n",
        "\tu_2 = h_item[1]\n",
        "\tv = h_item[2]\n",
        "\tvoff = v + offset4\n",
        "\tt21 = u2.index([u_2,u_1])\n",
        "\tt21off = t21 + offset1\n",
        "\tQ[ t21off , voff ] += math.pow(2,l_func(v)+1)*lambda4*0.5\n",
        "\tQ[ voff , t21off ] += math.pow(2,l_func(v)+1)*lambda4*0.5\n",
        "\n",
        "for h_item in h:\n",
        "\tu_1 = h_item[0]\n",
        "\tu_2 = h_item[1]\n",
        "\tv = h_item[2]\n",
        "\tvoff = v + offset4\n",
        "\tt12 = u2.index([u_2,u_1])\n",
        "\tt12off = t12 + offset1\n",
        "\tQ[ t12off , voff ] += -math.pow(2,l_func(v)+1)*lambda4*0.5\n",
        "\tQ[ voff , t12off ] += -math.pow(2,l_func(v)+1)*lambda4*0.5"
      ]
    },
    {
      "cell_type": "code",
      "execution_count": 14,
      "metadata": {},
      "outputs": [
        {
          "name": "stdout",
          "output_type": "stream",
          "text": [
            "[[-20.   0.   0. ...   0.   0.   0.]\n",
            " [  0. -40.   0. ...   0.   0.   0.]\n",
            " [  0.   0. -20. ...   0.   0.   0.]\n",
            " ...\n",
            " [  0.   0.   0. ... 200.   0. 400.]\n",
            " [  0.   0.   0. ...   0. 800.   0.]\n",
            " [  0.   0.   0. ... 400.   0. 800.]]\n"
          ]
        }
      ],
      "source": [
        "print(Q)"
      ]
    },
    {
      "cell_type": "code",
      "execution_count": 15,
      "metadata": {},
      "outputs": [],
      "source": [
        "QQ = np.zeros([n*m,n*m])\n",
        "cc=0\n",
        "# penalty: \"one counterpart per class\"\n",
        "for ii in range(n):\n",
        "    for jj in range(m):\n",
        "        tt = ii*m+jj\n",
        "        QQ[tt][tt] += -1\n",
        "    for jj in range(m-1):\n",
        "        for kk in range(jj+1,m):\n",
        "            tt = ii*m+jj\n",
        "            rr = ii*m+kk\n",
        "            QQ[tt][rr] += 1\n",
        "            QQ[rr][tt] += 1\n",
        "    cc += 1\n",
        "# penalty: \"first counterpart in first class\"\n",
        "for jj in range(1, m):\n",
        "    QQ[jj][jj] += 1\n",
        "    QQ[0][jj] -= 0.5\n",
        "    QQ[jj][0] -= 0.5\n",
        "\n",
        "# penalty: \"last counterpart in the last class\"\n",
        "for jj in range(m-1):\n",
        "    tt = (n-1)*m+jj\n",
        "    QQ[tt][tt] += 1\n",
        "    QQ[(n*m)-1][tt] -= 0.5\n",
        "    QQ[tt][(n*m)-1] -= 0.5\n",
        "\n",
        "# penalty: \"penalize not permitted submatrix\"\n",
        "# a submatrix is\n",
        "# [[x1, x1], [x3, x4]]\n",
        "for ii in range(n-1):\n",
        "    for jj in range(m-1):\n",
        "        x1 = ii*m+jj\n",
        "        x2 = x1+1\n",
        "        x3 = (ii+1)*m+jj\n",
        "        x4 = x3+1\n",
        "        # add linear terms\n",
        "        QQ[x1][x1] += 1\n",
        "        QQ[x4][x4] += 1\n",
        "        # add quadratic terms\n",
        "        QQ[x1][x2] += 0.5\n",
        "        QQ[x2][x1] += 0.5\n",
        "        QQ[x1][x3] -= 0.5\n",
        "        QQ[x3][x1] -= 0.5\n",
        "        QQ[x1][x4] -= 1\n",
        "        QQ[x4][x1] -= 1\n",
        "        QQ[x2][x3] += 0.5\n",
        "        QQ[x3][x2] += 0.5\n",
        "        QQ[x2][x4] -= 0.5\n",
        "        QQ[x4][x2] -= 0.5\n",
        "        QQ[x3][x4] += 0.5\n",
        "        QQ[x4][x3] += 0.5\n",
        "\n",
        "# penalty: \"penalize restarting from class 0\"\n",
        "# for ii in range(n-1):\n",
        "#     x1 = ii*m\n",
        "#     x2 = x1+1\n",
        "#     x3 = (ii+1)*m\n",
        "#     QQ[x3][x3] += 1\n",
        "#     QQ[x1][x3] -= 0.5\n",
        "#     QQ[x3][x1] -= 0.5\n",
        "#     QQ[x2][x3] -= 0.5\n",
        "#     QQ[x3][x2] -= 0.5\n",
        "#     QQ[x1][x2] += 0.5\n",
        "#     QQ[x2][x1] += 0.5"
      ]
    },
    {
      "cell_type": "code",
      "execution_count": 16,
      "metadata": {},
      "outputs": [
        {
          "name": "stdout",
          "output_type": "stream",
          "text": [
            "[[ 0.   1.   0.5 -0.5 -1.   0.   0.   0.   0.   0.   0.   0.   0.   0.\n",
            "   0. ]\n",
            " [ 1.   1.   1.5  0.5 -1.  -1.   0.   0.   0.   0.   0.   0.   0.   0.\n",
            "   0. ]\n",
            " [ 0.5  1.5  0.   0.   0.5 -0.5  0.   0.   0.   0.   0.   0.   0.   0.\n",
            "   0. ]\n",
            " [-0.5  0.5  0.   0.   2.   1.  -0.5 -1.   0.   0.   0.   0.   0.   0.\n",
            "   0. ]\n",
            " [-1.  -1.   0.5  2.   1.   2.   0.5 -1.  -1.   0.   0.   0.   0.   0.\n",
            "   0. ]\n",
            " [ 0.  -1.  -0.5  1.   2.   0.   0.   0.5 -0.5  0.   0.   0.   0.   0.\n",
            "   0. ]\n",
            " [ 0.   0.   0.  -0.5  0.5  0.   0.   2.   1.  -0.5 -1.   0.   0.   0.\n",
            "   0. ]\n",
            " [ 0.   0.   0.  -1.  -1.   0.5  2.   1.   2.   0.5 -1.  -1.   0.   0.\n",
            "   0. ]\n",
            " [ 0.   0.   0.   0.  -1.  -0.5  1.   2.   0.   0.   0.5 -0.5  0.   0.\n",
            "   0. ]\n",
            " [ 0.   0.   0.   0.   0.   0.  -0.5  0.5  0.   0.   2.   1.  -0.5 -1.\n",
            "   0. ]\n",
            " [ 0.   0.   0.   0.   0.   0.  -1.  -1.   0.5  2.   1.   2.   0.5 -1.\n",
            "  -1. ]\n",
            " [ 0.   0.   0.   0.   0.   0.   0.  -1.  -0.5  1.   2.   0.   0.   0.5\n",
            "  -0.5]\n",
            " [ 0.   0.   0.   0.   0.   0.   0.   0.   0.  -0.5  0.5  0.   0.   1.5\n",
            "   0.5]\n",
            " [ 0.   0.   0.   0.   0.   0.   0.   0.   0.  -1.  -1.   0.5  1.5  1.\n",
            "   1. ]\n",
            " [ 0.   0.   0.   0.   0.   0.   0.   0.   0.   0.  -1.  -0.5  0.5  1.\n",
            "   0. ]]\n"
          ]
        }
      ],
      "source": [
        "print(QQ)"
      ]
    },
    {
      "cell_type": "code",
      "execution_count": 17,
      "metadata": {},
      "outputs": [
        {
          "name": "stdout",
          "output_type": "stream",
          "text": [
            "Set parameter Username\n",
            "Set parameter LicenseID to value 2685653\n",
            "Gurobi Optimizer version 12.0.3 build v12.0.3rc0 (linux64 - \"Ubuntu 24.04.3 LTS\")\n",
            "\n",
            "CPU model: 11th Gen Intel(R) Core(TM) i3-1115G4 @ 3.00GHz, instruction set [SSE2|AVX|AVX2|AVX512]\n",
            "Thread count: 2 physical cores, 4 logical processors, using up to 4 threads\n",
            "\n",
            "Optimize a model with 0 rows, 93 columns and 0 nonzeros\n",
            "Model fingerprint: 0x1c6f96be\n",
            "Model has 482 quadratic objective terms\n",
            "Variable types: 0 continuous, 93 integer (93 binary)\n",
            "Coefficient statistics:\n",
            "  Matrix range     [0e+00, 0e+00]\n",
            "  Objective range  [0e+00, 0e+00]\n",
            "  QObjective range [2e+01, 2e+03]\n",
            "  Bounds range     [1e+00, 1e+00]\n",
            "  RHS range        [0e+00, 0e+00]\n",
            "Found heuristic solution: objective 740.0000000\n",
            "Found heuristic solution: objective 50.0000000\n",
            "Found heuristic solution: objective 40.0000000\n",
            "Found heuristic solution: objective 30.0000000\n",
            "Presolve removed 0 rows and 6 columns\n",
            "Presolve time: 0.00s\n",
            "Presolved: 407 rows, 494 columns, 1221 nonzeros\n",
            "Variable types: 0 continuous, 494 integer (494 binary)\n",
            "\n",
            "Root relaxation: objective -4.770000e+03, 112 iterations, 0.00 seconds (0.00 work units)\n",
            "\n",
            "    Nodes    |    Current Node    |     Objective Bounds      |     Work\n",
            " Expl Unexpl |  Obj  Depth IntInf | Incumbent    BestBd   Gap | It/Node Time\n",
            "\n",
            "     0     0 -4770.0000    0   87   30.00000 -4770.0000      -     -    0s\n",
            "     0     0 -606.62281    0  237   30.00000 -606.62281  2122%     -    0s\n",
            "     0     0 -606.62281    0  238   30.00000 -606.62281  2122%     -    0s\n",
            "     0     0 -369.08602    0  287   30.00000 -369.08602  1330%     -    0s\n",
            "     0     0 -367.10328    0  278   30.00000 -367.10328  1324%     -    0s\n",
            "     0     2 -365.67267    0  275   30.00000 -365.67267  1319%     -    0s\n",
            "H  405   191                      20.0000000 -164.51311   923%  48.3    1s\n",
            "H  573   209                      10.0000000 -154.83516  1648%  45.0    2s\n",
            "  1939   227   -1.25000   12  147   10.00000  -71.94712   819%  38.6    5s\n",
            "\n",
            "Cutting planes:\n",
            "  Gomory: 3\n",
            "  MIR: 176\n",
            "  Zero half: 57\n",
            "  RLT: 84\n",
            "  BQP: 97\n",
            "\n",
            "Explored 3024 nodes (106160 simplex iterations) in 6.45 seconds (3.41 work units)\n",
            "Thread count was 4 (of 4 available processors)\n",
            "\n",
            "Solution count 6: 10 20 30 ... 740\n",
            "\n",
            "Optimal solution found (tolerance 1.00e-04)\n",
            "Best objective 1.000000000000e+01, best bound 1.000000000000e+01, gap 0.0000%\n",
            "Optimal solution found.\n",
            "Optimal variable values (x): [1, 0, 0, 0, 1, 0, 0, 1, 0, 0, 0, 1, 0, 0, 1, 0, 0, 0, 0, 0, 0, 0, 0, 0, 0, 0, 0, 0, 0, 0, 1, 0, 0, 1, 0, 0, 0, 0, 0, 0, 0, 0, 1, 1, 0, 1, 1, 0, 1, 0, 1, 1, 0, 0, 0, 0, 0, 0, 1, 1, 0, 1, 0, 0, 0, 0, 0, 0, 0, 0, 0, 0, 0, 0, 0, 0, 0, 0, 0, 0, 0, 0, 0, 0, 0, 0, 0, 0, 0, 0, 0, 0, 0]\n",
            "Optimal objective value: 10.0\n"
          ]
        }
      ],
      "source": [
        "import gurobipy as gp\n",
        "from gurobipy import GRB\n",
        "\n",
        "c=c+cc*lambda5\n",
        "QQ = QQ*lambda5\n",
        "QQ=np.pad(QQ, ((0, dim_qubo-n*m), (0, dim_qubo-n*m)), mode='constant', constant_values=0)\n",
        "Q = QQ+Q\n",
        "#dim_qubo=n*m\n",
        "\n",
        "\n",
        "# Create a new model\n",
        "mm = gp.Model(\"qubo_solver\")\n",
        "\n",
        "# Create binary variables\n",
        "x = mm.addVars(dim_qubo, vtype=GRB.BINARY, name=\"x\")\n",
        "\n",
        "# Set the objective function: minimize x' * Q * x + c\n",
        "obj = gp.quicksum(Q[i][j] * x[i] * x[j] for i in range(dim_qubo) for j in range(dim_qubo)) + c\n",
        "mm.setObjective(obj, GRB.MINIMIZE)\n",
        "\n",
        "# Solve the model\n",
        "mm.optimize()\n",
        "\n",
        "# Print the solution\n",
        "if mm.status == GRB.OPTIMAL:\n",
        "    print(\"Optimal solution found.\")\n",
        "    solution = [int(v.X) for v in x.values()]\n",
        "    print(f\"Optimal variable values (x): {solution}\")\n",
        "    print(f\"Optimal objective value: {mm.ObjVal}\")\n",
        "else:\n",
        "    print(\"No optimal solution found.\")"
      ]
    },
    {
      "cell_type": "code",
      "execution_count": 18,
      "metadata": {},
      "outputs": [
        {
          "name": "stdout",
          "output_type": "stream",
          "text": [
            "number of counterparts:  5\n",
            "number of classes:  3\n",
            "vector of default values:  [0, 0, 1, 1, 0]\n",
            "num of default:  2\n",
            "dimension of the problem:  93\n",
            "[[1 0 0]\n",
            " [0 1 0]\n",
            " [0 1 0]\n",
            " [0 0 1]\n",
            " [0 0 1]]\n",
            "lambda coefficients:\n",
            "10, 10, 10, 50, 100\n"
          ]
        }
      ],
      "source": [
        "print(\"number of counterparts: \",n)\n",
        "print(\"number of classes: \",m)\n",
        "print(\"vector of default values: \",d_vec)\n",
        "print(\"num of default: \",d)\n",
        "print(\"dimension of the problem: \", dim_qubo)\n",
        "l=solution[:n*m]\n",
        "ll=np.array(l)\n",
        "print(ll.reshape(n,m))\n",
        "print(\"lambda coefficients:\")\n",
        "print(lambda1, lambda2, lambda3, lambda4,lambda5, sep=', ')"
      ]
    }
  ],
  "metadata": {
    "colab": {
      "provenance": []
    },
    "kernelspec": {
      "display_name": "qcs",
      "language": "python",
      "name": "python3"
    },
    "language_info": {
      "codemirror_mode": {
        "name": "ipython",
        "version": 3
      },
      "file_extension": ".py",
      "mimetype": "text/x-python",
      "name": "python",
      "nbconvert_exporter": "python",
      "pygments_lexer": "ipython3",
      "version": "3.13.2"
    }
  },
  "nbformat": 4,
  "nbformat_minor": 0
}
