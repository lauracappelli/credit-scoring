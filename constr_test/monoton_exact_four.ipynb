{
  "cells": [
    {
      "cell_type": "markdown",
      "metadata": {
        "id": "8DI1KrbIxJQw"
      },
      "source": [
        "\n",
        "\n",
        "Monotonicity ($m-1$ inequalities)\n",
        "\n"
      ]
    },
    {
      "cell_type": "markdown",
      "metadata": {
        "id": "_VkvdlkK17UY"
      },
      "source": [
        "\\begin{align}\n",
        "\t\\Xi^{(1)}(x,y,s_y) =&\n",
        "\t\\sum_{ (u_1 u_2) \\in U_2}\n",
        "\t(\\lambda_0x_{u_1} x_{u_2 +1 } +3\\lambda_0y_{t(u_1 u_2)} -2\\lambda_0x_{u_1} y_{t(u_1 u_2)} -2\\lambda_0x_{u_2 +1 } y_{t(u_1 u_2)})  \n",
        "\t\\nonumber\\\\&\n",
        "\t+  \n",
        "\t\\sum_{(u_1 u_2 u_3 u_4)  \\in U_4} \\lambda y_{t(u_2 u_1)} y_{t(u_4 u_3)}\n",
        "\t+\\sum_{(u_1 u_2 u_3 u_4)  \\in U_4} \\lambda y_{t(u_1 u_2)} y_{t(u_3 u_4)}\\nonumber\\\\&\n",
        "\t+\\sum_{(v_1 v_2) \\in V_2} 2^{l(v_1)+l(v_2)}\\lambda s_{yv_1}s_{y v_2}\n",
        "\t+\\sum_{(u_1 u_2 u_3 u_4)  \\in U_4} (-2)\\lambda y_{t(u_2 u_1)} y_{t(u_3 u_4)}\\nonumber\\\\&\n",
        "\t+\\sum_{(u_1 u_2 v) \\in H }2^{l(v)+1}\\lambda y_{t(u_2 u_1)}s_{y v}\n",
        "\t+\\sum_{(u_1 u_2 v) \\in H }(-1) 2^{l(v)+1} \\lambda y_{t(u_1 u_2)}s_{y v}   \n",
        "\\end{align}"
      ]
    },
    {
      "cell_type": "markdown",
      "metadata": {},
      "source": [
        "\\begin{align}\n",
        "\tx \\in \\mathbb{B}^{nm},\\quad\n",
        "\ty \\in \\mathbb{B}^{2(m-1)(n-d)d} ,\\quad\n",
        "\ts_y \\in \\mathbb{B}  {}^{\\wedge} \\{ (m-1) \\left \\lfloor 1+ \\log_2 [(n-d)d] \\right \\rfloor \\}  .\n",
        "\\end{align}"
      ]
    },
    {
      "cell_type": "code",
      "execution_count": 1,
      "metadata": {
        "id": "StBIumXO14PG"
      },
      "outputs": [
        {
          "name": "stdout",
          "output_type": "stream",
          "text": [
            "number of counterparts:  6\n",
            "number of classes:  3\n",
            "vector of default:  [0, 1, 0, 0, 0, 1]\n",
            "number of defaults:  2\n",
            "dimension of the problem:  58\n",
            "lambda coefficients:\n",
            "100, 50, 300\n"
          ]
        }
      ],
      "source": [
        "import numpy as np\n",
        "import math\n",
        "import sys\n",
        "import random\n",
        "\n",
        "n=6; m=3;# d_vec = [0,0,1,0,0]\n",
        "\n",
        "d_modul = 2\n",
        "def random_no_prob(n,d_modul):\n",
        "  d = [0] * n\n",
        "  indices_to_set_to_one = random.sample(range(n), d_modul)\n",
        "  for index in indices_to_set_to_one:\n",
        "      d[index] = 1\n",
        "  return d\n",
        "d_vec = random_no_prob(n,d_modul)\n",
        "\n",
        "d = sum(d_vec)\n",
        "if d_vec == 0 or d_vec == n:\n",
        "\tsys.exit(0)\n",
        "\n",
        "param = (n-d)*d\n",
        "N_y = math.floor(1+math.log2(param))\n",
        "dim_x = n*m\n",
        "dim_y = 2*(m-1)*param\n",
        "dim_sy = (m-1)*N_y\n",
        "offset_y = dim_x\n",
        "offset_sy = dim_x + dim_y\n",
        "##############  x   #        y      #   s_y\n",
        "##############  nm  #  2(m-1)(n-d)d #  (m-1)N_y\n",
        "# n=5; m=3; ##  15  #        24     #     6\n",
        "dim_qubo   =    n*m  +    dim_y     +    dim_sy\n",
        "\n",
        "Q = np.zeros([dim_qubo,dim_qubo])\n",
        "c = 0\n",
        "\n",
        "lambda0 = 100\n",
        "lambda1 = 50 # it has the meaning of lambda\n",
        "lambda2 = 300 # for BSM\n",
        "\n",
        "print(\"number of counterparts: \",n)\n",
        "print(\"number of classes: \",m)\n",
        "print(\"vector of default: \",d_vec)\n",
        "print(\"number of defaults: \",d)\n",
        "print(\"dimension of the problem: \", dim_qubo)\n",
        "print(\"lambda coefficients:\")\n",
        "print(lambda0, lambda1, lambda2, sep=', ')"
      ]
    },
    {
      "cell_type": "markdown",
      "metadata": {},
      "source": [
        "\\begin{align}\n",
        "    C^{\\pm} &= \\{(i_1  i_2) \\in \\{1, 2, \\dots, n\\}^2 \\mid d_{i_1 i_2} = \\pm 1\\}, \\\\\n",
        "    C &= C^+ \\cup C^-\n",
        "\\end{align}"
      ]
    },
    {
      "cell_type": "code",
      "execution_count": 2,
      "metadata": {},
      "outputs": [
        {
          "name": "stdout",
          "output_type": "stream",
          "text": [
            "[[1, 2], [1, 6], [3, 2], [3, 6], [4, 2], [4, 6], [5, 2], [5, 6]]\n",
            "[[1, 2], [1, 6], [2, 1], [2, 3], [2, 4], [2, 5], [3, 2], [3, 6], [4, 2], [4, 6], [5, 2], [5, 6], [6, 1], [6, 3], [6, 4], [6, 5]]\n"
          ]
        }
      ],
      "source": [
        "C_set_minus = []\n",
        "C_set = []\n",
        "for i1 in range(n):\n",
        "\tfor i2 in range(n):\n",
        "\t\tif d_vec[i1]-d_vec[i2] == -1:\n",
        "\t\t\tC_set_minus.append([i1+1,i2+1])\n",
        "\t\tif d_vec[i1]-d_vec[i2] != 0:\n",
        "\t\t\tC_set.append([i1+1,i2+1])\n",
        "print(C_set_minus)\n",
        "print(C_set)"
      ]
    },
    {
      "cell_type": "markdown",
      "metadata": {},
      "source": [
        "\\begin{align}\n",
        "    U_2 &= \\{(u_1  u_2)\\in \\{0, 1, \\dots, nm - 1\\}^2 \\mid u_r = (i_r-1)m+j-1,\\ \\text{for every}\\ r\\in\\{1,2\\},\\ (i_1  i_2  j)\\in Q_3\\}\n",
        "\\end{align}"
      ]
    },
    {
      "cell_type": "code",
      "execution_count": 3,
      "metadata": {},
      "outputs": [
        {
          "name": "stdout",
          "output_type": "stream",
          "text": [
            "[[0, 3], [0, 15], [3, 0], [3, 6], [3, 9], [3, 12], [6, 3], [6, 15], [9, 3], [9, 15], [12, 3], [12, 15], [15, 0], [15, 6], [15, 9], [15, 12], [1, 4], [1, 16], [4, 1], [4, 7], [4, 10], [4, 13], [7, 4], [7, 16], [10, 4], [10, 16], [13, 4], [13, 16], [16, 1], [16, 7], [16, 10], [16, 13]]\n"
          ]
        }
      ],
      "source": [
        "u2 = []\n",
        "for j in range(m-1):\n",
        "\tfor item_c_set in C_set:\n",
        "\t\tu2_1 = (item_c_set[0] -1)*m + (j+1) -1\n",
        "\t\tu2_2 = (item_c_set[1] -1)*m + (j+1) -1\n",
        "\t\tu2.append([u2_1 , u2_2])\n",
        "print(u2)"
      ]
    },
    {
      "cell_type": "markdown",
      "metadata": {},
      "source": [
        "\\begin{align}\n",
        "    Q_3 &= \\{ (i_1  i_2 j) \\in \\{1, 2, \\dots, n\\}^2 \\times \\{1, 2, \\dots, m-1\\} \\mid (i_1  i_2) \\in C\\}\n",
        "\\end{align}"
      ]
    },
    {
      "cell_type": "code",
      "execution_count": 4,
      "metadata": {},
      "outputs": [
        {
          "name": "stdout",
          "output_type": "stream",
          "text": [
            "[[0, 3], [0, 15], [3, 0], [3, 6], [3, 9], [3, 12], [6, 3], [6, 15], [9, 3], [9, 15], [12, 3], [12, 15], [15, 0], [15, 6], [15, 9], [15, 12], [1, 4], [1, 16], [4, 1], [4, 7], [4, 10], [4, 13], [7, 4], [7, 16], [10, 4], [10, 16], [13, 4], [13, 16], [16, 1], [16, 7], [16, 10], [16, 13]]\n"
          ]
        }
      ],
      "source": [
        "print(u2)"
      ]
    },
    {
      "cell_type": "markdown",
      "metadata": {},
      "source": [
        "\\begin{align}\n",
        "\tU_4 = \\{ (u_1 u_2 u_3 u_4) \\in \\mathbb{N}[0,nm-1]^4|&u_r = (i_r-1)m+j-1, \\text{for every}\\nonumber\\\\&r\\in\\{1,2,3,4\\}, (i_1 i_2)\\in C^-, (i_3 i_4)\\in C^-\\}\n",
        "\\end{align}"
      ]
    },
    {
      "cell_type": "code",
      "execution_count": 5,
      "metadata": {},
      "outputs": [],
      "source": [
        "u4 = []\n",
        "for j in range(m - 1):\n",
        "    for item_c_set_minus_1 in C_set_minus:\n",
        "        u_1 = (item_c_set_minus_1[0] - 1) * m + (j + 1) - 1\n",
        "        u_2 = (item_c_set_minus_1[1] - 1) * m + (j + 1) - 1\n",
        "        for item_c_set_minus_2 in C_set_minus:\n",
        "            u_3 = (item_c_set_minus_2[0] - 1) * m + (j + 1) - 1\n",
        "            u_4 = (item_c_set_minus_2[1] - 1) * m + (j + 1) - 1\n",
        "            u4.append([u_1, u_2, u_3, u_4])"
      ]
    },
    {
      "cell_type": "markdown",
      "metadata": {},
      "source": [
        "$$\n",
        "\tV_2 =\\{ (v_1   v_2) \\in \\mathbb{N}[0,N_y \\cdot(m-1)-1] ^2|v_r = l_r \\cdot (m-1)+j-1 \\ \\text{for every}\\\n",
        "\tl_r \\in \\mathbb{N}[0, N_y -1]   ,  r\\in\\{1,2\\}    \\},\n",
        "$$"
      ]
    },
    {
      "cell_type": "code",
      "execution_count": 6,
      "metadata": {
        "id": "Dqz1DdL_HT8z"
      },
      "outputs": [],
      "source": [
        "l2j1 = []\n",
        "for l1 in range(N_y):\n",
        "\tfor l2 in range(N_y):\n",
        "\t\tfor j in range(m-1):\n",
        "\t\t\tl2j1.append([l1,l2,j+1])\n",
        "v2 = []\n",
        "for l2j1_item in l2j1:\n",
        "\tv_1 = l2j1_item[0]*(m-1) + l2j1_item[2] -1\n",
        "\tv_2 = l2j1_item[1]*(m-1) + l2j1_item[2] -1\n",
        "\tv2.append([v_1,v_2])"
      ]
    },
    {
      "cell_type": "markdown",
      "metadata": {},
      "source": [
        "\\begin{align}\n",
        "\tH = \\{(u_1 u_2 v)  \\in  \\mathbb{N}[0,nm-1]^2 \\times \\mathbb{N}[0,N_y \\cdot (m-1)-1]\n",
        "\t|& u_r = (i_r-1)m+j-1,\\nonumber\\\\&v=l\\cdot (m-1)+j-1 \\nonumber\\\\& \\text{for every}\\ r \\in \\{1,2\\}, \\ (i_1 i_2)\\in C^- \\}\n",
        "\\end{align}"
      ]
    },
    {
      "cell_type": "code",
      "execution_count": 7,
      "metadata": {},
      "outputs": [],
      "source": [
        "h = []\n",
        "for j in range(m-1):\n",
        "\tfor c_min_item in C_set_minus:\n",
        "\t\tu_1=(c_min_item[0]-1)*m + (j+1) -1\n",
        "\t\tu_2=(c_min_item[1]-1)*m + (j+1) -1\n",
        "\t\tfor l in range(N_y):\n",
        "\t\t\tv = l*(m-1) + (j+1) -1\n",
        "\t\t\th.append([u_1,u_2,v])"
      ]
    },
    {
      "cell_type": "markdown",
      "metadata": {},
      "source": [
        "\\begin{align}\n",
        "\tl(v) = \\left \\lfloor v/(m-1) \\right\\rfloor\n",
        "\\end{align}"
      ]
    },
    {
      "cell_type": "code",
      "execution_count": 8,
      "metadata": {},
      "outputs": [],
      "source": [
        "def l_func(v):\n",
        "\treturn math.floor(v/(m-1))"
      ]
    },
    {
      "cell_type": "markdown",
      "metadata": {},
      "source": [
        "\\begin{align}\n",
        "\t\\sum_{ (u_1 u_2) \\in U_2}\n",
        "\t(\\lambda_0x_{u_1} x_{u_2 +1 } +3\\lambda_0y_{t(u_1 u_2)} -2\\lambda_0x_{u_1} y_{t(u_1 u_2)} -2\\lambda_0x_{u_2 +1 } y_{t(u_1 u_2)})  \n",
        "\\end{align}"
      ]
    },
    {
      "cell_type": "code",
      "execution_count": 9,
      "metadata": {},
      "outputs": [
        {
          "name": "stdout",
          "output_type": "stream",
          "text": [
            "[[0, 3], [0, 15], [3, 0], [3, 6], [3, 9], [3, 12], [6, 3], [6, 15], [9, 3], [9, 15], [12, 3], [12, 15], [15, 0], [15, 6], [15, 9], [15, 12], [1, 4], [1, 16], [4, 1], [4, 7], [4, 10], [4, 13], [7, 4], [7, 16], [10, 4], [10, 16], [13, 4], [13, 16], [16, 1], [16, 7], [16, 10], [16, 13]]\n"
          ]
        }
      ],
      "source": [
        "print(u2)"
      ]
    },
    {
      "cell_type": "code",
      "execution_count": 10,
      "metadata": {},
      "outputs": [],
      "source": [
        "for u2_item in u2:\n",
        "\tu_1 = u2_item[0]; u_2 = u2_item[1]\n",
        "\tif u_1==u_2+1:\n",
        "\t\tQ[u_1,u_2+1] += lambda0\n",
        "\telse:\n",
        "\t\tQ[u_1,u_2+1] += lambda0*0.5\n",
        "\t\tQ[u_2+1,u_1] += lambda0*0.5\n",
        "\n",
        "for u2_item in u2:\n",
        "\tu_1 = u2_item[0]; u_2 = u2_item[1]\n",
        "\tt=u2.index([u_1,u_2])\n",
        "\tQ[ offset_y + t, offset_y + t ] += lambda0*3\n",
        "\n",
        "for u2_item in u2:\n",
        "\tu_1 = u2_item[0]; u_2 = u2_item[1]\n",
        "\tt=u2.index([u_1,u_2])\n",
        "\tQ[u_1,offset_y + t] += lambda0*(-2)*0.5\n",
        "\tQ[offset_y + t,u_1] += lambda0*(-2)*0.5\n",
        "\n",
        "for u2_item in u2:\n",
        "\tu_1 = u2_item[0]; u_2 = u2_item[1]\n",
        "\tt=u2.index([u_1,u_2])\n",
        "\tQ[u_2+1,offset_y + t] += lambda0*(-2)*0.5\n",
        "\tQ[offset_y + t,u_2+1] += lambda0*(-2)*0.5"
      ]
    },
    {
      "cell_type": "markdown",
      "metadata": {},
      "source": [
        "\\begin{align}\n",
        "\t\\sum_{(u_1 u_2 u_3 u_4)  \\in U_4} \\lambda y_{t(u_2 u_1)} y_{t(u_4 u_3)}\n",
        "\t+\\sum_{(u_1 u_2 u_3 u_4)  \\in U_4} \\lambda y_{t(u_1 u_2)} y_{t(u_3 u_4)}\n",
        "\\end{align}"
      ]
    },
    {
      "cell_type": "code",
      "execution_count": 11,
      "metadata": {},
      "outputs": [],
      "source": [
        "# first summation\n",
        "for u4_item in u4:\n",
        "\tu_1 = u4_item[0]; u_2 = u4_item[1]\n",
        "\tu_3 = u4_item[2]; u_4 = u4_item[3]\n",
        "\tt21 = u2.index([u_2,u_1])\n",
        "\tt43 = u2.index([u_4,u_3])\n",
        "\tif t21==t43:\n",
        "\t\tQ[ offset_y + t21 , offset_y + t43 ] += lambda1\n",
        "\telse:\n",
        "\t\tQ[ offset_y + t21 , offset_y + t43 ] += lambda1*0.5\n",
        "\t\tQ[ offset_y + t43 , offset_y + t21 ] += lambda1*0.5\n",
        "# second summation\n",
        "for u4_item in u4:\n",
        "\tu_1 = u4_item[0]; u_2 = u4_item[1]\n",
        "\tu_3 = u4_item[2]; u_4 = u4_item[3]\n",
        "\tt12 = u2.index([u_1,u_2])\n",
        "\tt34 = u2.index([u_3,u_4])\n",
        "\tif t12==t34:\n",
        "\t\tQ[ offset_y + t12 , offset_y + t34 ] += lambda1\n",
        "\telse:\n",
        "\t\tQ[ offset_y + t12 , offset_y + t34 ] += lambda1*0.5\n",
        "\t\tQ[ offset_y + t34 , offset_y + t12 ] += lambda1*0.5"
      ]
    },
    {
      "cell_type": "markdown",
      "metadata": {},
      "source": [
        "\\begin{align}\n",
        "\t+\\sum_{(v_1 v_2) \\in V_2} 2^{l(v_1)+l(v_2)}\\lambda s_{yv_1}s_{y v_2}\n",
        "\t+\\sum_{(u_1 u_2 u_3 u_4)  \\in U_4} (-2)\\lambda y_{t(u_2 u_1)} y_{t(u_3 u_4)}\n",
        "\\end{align}"
      ]
    },
    {
      "cell_type": "code",
      "execution_count": 12,
      "metadata": {},
      "outputs": [],
      "source": [
        "# first summation\n",
        "for v2_item in v2:\t\n",
        "\tv_1 = v2_item[0]; v_2 = v2_item[1]\n",
        "\tif v_1==v_2:\n",
        "\t\tQ[ offset_sy + v_1 , offset_sy + v_2 ] += math.pow( 2, l_func(v_1) + l_func(v_2) )*lambda1\n",
        "\telse:\n",
        "\t\tQ[ offset_sy + v_1 , offset_sy + v_2 ] += math.pow( 2, l_func(v_1) + l_func(v_2) )*lambda1*0.5\n",
        "\t\tQ[ offset_sy + v_2 , offset_sy + v_1 ] += math.pow( 2, l_func(v_1) + l_func(v_2) )*lambda1*0.5\n",
        "# second summation\n",
        "for u4_item in u4:\n",
        "\tu_1 = u4_item[0]; u_2 = u4_item[1]\n",
        "\tu_3 = u4_item[2]; u_4 = u4_item[3]\n",
        "\tt21 = u2.index([u_2,u_1])\n",
        "\tt34 = u2.index([u_3,u_4])\n",
        "\tif t21==t34:\n",
        "\t\tQ[ offset_y + t21 , offset_y + t34 ] += lambda1*(-2)\n",
        "\telse:\n",
        "\t\tQ[ offset_y + t21 , offset_y + t34 ] += lambda1*(-2)*0.5\n",
        "\t\tQ[ offset_y + t34 , offset_y + t21 ] += lambda1*(-2)*0.5"
      ]
    },
    {
      "cell_type": "markdown",
      "metadata": {},
      "source": [
        "\\begin{align}\n",
        "\t\\sum_{(u_1 u_2 v) \\in H }2^{l(v)+1}\\lambda y_{t(u_2 u_1)}s_{y v}\n",
        "\t+\\sum_{(u_1 u_2 v) \\in H }(-1) 2^{l(v)+1} \\lambda y_{t(u_1 u_2)}s_{y v}   \n",
        "\\end{align}"
      ]
    },
    {
      "cell_type": "code",
      "execution_count": 13,
      "metadata": {},
      "outputs": [],
      "source": [
        "# first summation\n",
        "for h_item in h:\n",
        "\tu_1 = h_item[0]; u_2 = h_item[1]; v = h_item[2]\n",
        "\tt21 = u2.index([u_2,u_1])\n",
        "\tQ[ offset_y + t21 , offset_sy + v ] += math.pow( 2, l_func(v) + 1 )*lambda1*0.5\n",
        "\tQ[ offset_sy + v , offset_y + t21 ] += math.pow( 2, l_func(v) + 1 )*lambda1*0.5\n",
        "# second summation\n",
        "for h_item in h:\n",
        "\tu_1 = h_item[0]; u_2 = h_item[1]; v = h_item[2]\n",
        "\tt12 = u2.index([u_1,u_2])\n",
        "\tQ[ offset_y + t12 , offset_sy + v ] += (-1)*math.pow( 2, l_func(v) + 1 )*lambda1*0.5\n",
        "\tQ[ offset_sy + v , offset_y + t12 ] += (-1)*math.pow( 2, l_func(v) + 1 )*lambda1*0.5"
      ]
    },
    {
      "cell_type": "markdown",
      "metadata": {},
      "source": [
        "Binary staircase matrix"
      ]
    },
    {
      "cell_type": "code",
      "execution_count": 14,
      "metadata": {},
      "outputs": [],
      "source": [
        "QQ = np.zeros([n*m,n*m])\n",
        "cc=0\n",
        "# penalty: \"one counterpart per class\"\n",
        "for ii in range(n):\n",
        "    for jj in range(m):\n",
        "        tt = ii*m+jj\n",
        "        QQ[tt][tt] += -1\n",
        "    for jj in range(m-1):\n",
        "        for kk in range(jj+1,m):\n",
        "            tt = ii*m+jj\n",
        "            rr = ii*m+kk\n",
        "            QQ[tt][rr] += 1\n",
        "            QQ[rr][tt] += 1\n",
        "    cc += 1\n",
        "# penalty: \"first counterpart in first class\"\n",
        "for jj in range(1, m):\n",
        "    QQ[jj][jj] += 1\n",
        "    QQ[0][jj] -= 0.5\n",
        "    QQ[jj][0] -= 0.5\n",
        "\n",
        "# penalty: \"last counterpart in the last class\"\n",
        "for jj in range(m-1):\n",
        "    tt = (n-1)*m+jj\n",
        "    QQ[tt][tt] += 1\n",
        "    QQ[(n*m)-1][tt] -= 0.5\n",
        "    QQ[tt][(n*m)-1] -= 0.5\n",
        "\n",
        "# penalty: \"penalize not permitted submatrix\"\n",
        "# a submatrix is\n",
        "# [[x1, x1], [x3, x4]]\n",
        "for ii in range(n-1):\n",
        "    for jj in range(m-1):\n",
        "        x1 = ii*m+jj\n",
        "        x2 = x1+1\n",
        "        x3 = (ii+1)*m+jj\n",
        "        x4 = x3+1\n",
        "        # add linear terms\n",
        "        QQ[x1][x1] += 1\n",
        "        QQ[x4][x4] += 1\n",
        "        # add quadratic terms\n",
        "        QQ[x1][x2] += 0.5\n",
        "        QQ[x2][x1] += 0.5\n",
        "        QQ[x1][x3] -= 0.5\n",
        "        QQ[x3][x1] -= 0.5\n",
        "        QQ[x1][x4] -= 1\n",
        "        QQ[x4][x1] -= 1\n",
        "        QQ[x2][x3] += 0.5\n",
        "        QQ[x3][x2] += 0.5\n",
        "        QQ[x2][x4] -= 0.5\n",
        "        QQ[x4][x2] -= 0.5\n",
        "        QQ[x3][x4] += 0.5\n",
        "        QQ[x4][x3] += 0.5\n",
        "\n",
        "# penalty: \"penalize restarting from class 0\"\n",
        "for ii in range(n-1):\n",
        "    x1 = ii*m\n",
        "    x2 = x1+1\n",
        "    x3 = (ii+1)*m\n",
        "    QQ[x3][x3] += 1\n",
        "    QQ[x1][x3] -= 0.5\n",
        "    QQ[x3][x1] -= 0.5\n",
        "    QQ[x2][x3] -= 0.5\n",
        "    QQ[x3][x2] -= 0.5\n",
        "    QQ[x1][x2] += 0.5\n",
        "    QQ[x2][x1] += 0.5"
      ]
    },
    {
      "cell_type": "markdown",
      "metadata": {},
      "source": [
        "Adding BSM to monotonicity"
      ]
    },
    {
      "cell_type": "code",
      "execution_count": 15,
      "metadata": {},
      "outputs": [],
      "source": [
        "c=c+cc*lambda2\n",
        "QQ = QQ*lambda2\n",
        "QQ=np.pad(QQ, ((0, dim_qubo-n*m), (0, dim_qubo-n*m)), mode='constant', constant_values=0)\n",
        "Q = QQ+Q\n",
        "#dim_qubo=n*m"
      ]
    },
    {
      "cell_type": "markdown",
      "metadata": {},
      "source": [
        "Finding a solution"
      ]
    },
    {
      "cell_type": "code",
      "execution_count": 16,
      "metadata": {},
      "outputs": [
        {
          "name": "stdout",
          "output_type": "stream",
          "text": [
            "Set parameter Username\n",
            "Set parameter LicenseID to value 2685653\n",
            "Gurobi Optimizer version 12.0.3 build v12.0.3rc0 (linux64 - \"Ubuntu 24.04.3 LTS\")\n",
            "\n",
            "CPU model: 11th Gen Intel(R) Core(TM) i3-1115G4 @ 3.00GHz, instruction set [SSE2|AVX|AVX2|AVX512]\n",
            "Thread count: 2 physical cores, 4 logical processors, using up to 4 threads\n",
            "\n",
            "Optimize a model with 0 rows, 58 columns and 0 nonzeros\n",
            "Model fingerprint: 0x9ebd47d7\n",
            "Model has 566 quadratic objective terms\n",
            "Variable types: 0 continuous, 58 integer (58 binary)\n",
            "Coefficient statistics:\n",
            "  Matrix range     [0e+00, 0e+00]\n",
            "  Objective range  [0e+00, 0e+00]\n",
            "  QObjective range [1e+02, 6e+03]\n",
            "  Bounds range     [1e+00, 1e+00]\n",
            "  RHS range        [0e+00, 0e+00]\n",
            "Found heuristic solution: objective 1800.0000000\n",
            "Found heuristic solution: objective 50.0000000\n",
            "Presolve time: 0.00s\n",
            "Presolved: 0 rows, 58 columns, 0 nonzeros\n",
            "Presolved model has 573 quadratic objective terms\n",
            "Variable types: 0 continuous, 58 integer (58 binary)\n",
            "\n",
            "Root relaxation: objective -6.002867e+03, 55 iterations, 0.00 seconds (0.00 work units)\n",
            "\n",
            "    Nodes    |    Current Node    |     Objective Bounds      |     Work\n",
            " Expl Unexpl |  Obj  Depth IntInf | Incumbent    BestBd   Gap | It/Node Time\n",
            "\n",
            "     0     0 -6002.8673    0   54   50.00000 -6002.8673      -     -    0s\n",
            "     0     0 -5954.1824    0   54   50.00000 -5954.1824      -     -    0s\n",
            "     0     2 -5766.2027    0   54   50.00000 -5766.2027      -     -    0s\n",
            "H   16    26                       0.0000000 -5117.9918      -   2.6    0s\n",
            "\n",
            "Cutting planes:\n",
            "  Gomory: 2\n",
            "  Flow cover: 54\n",
            "  Zero half: 23\n",
            "  RLT: 52\n",
            "  BQP: 284\n",
            "  PSD: 16\n",
            "\n",
            "Explored 1021 nodes (32023 simplex iterations) in 4.88 seconds (4.85 work units)\n",
            "Thread count was 4 (of 4 available processors)\n",
            "\n",
            "Solution count 3: 0 50 1800 \n",
            "\n",
            "Optimal solution found (tolerance 1.00e-04)\n",
            "Best objective 0.000000000000e+00, best bound 0.000000000000e+00, gap 0.0000%\n",
            "Optimal solution found.\n",
            "Optimal variable values (x): [1, 0, 0, 0, 1, 0, 0, 1, 0, 0, 1, 0, 0, 1, 0, 0, 0, 1, 1, 0, 0, 0, 0, 0, 0, 0, 0, 0, 0, 0, 0, 0, 0, 0, 0, 0, 0, 0, 0, 0, 0, 1, 0, 1, 0, 1, 0, 0, 0, 0, 1, 1, 0, 1, 0, 0, 0, 0]\n",
            "Optimal objective value: 0.0\n"
          ]
        }
      ],
      "source": [
        "import gurobipy as gp\n",
        "from gurobipy import GRB\n",
        "\n",
        "\n",
        "# Create a new model\n",
        "mm = gp.Model(\"qubo_solver\")\n",
        "\n",
        "# Create binary variables\n",
        "x = mm.addVars(dim_qubo, vtype=GRB.BINARY, name=\"x\")\n",
        "\n",
        "# Set the objective function: minimize x' * Q * x + c\n",
        "obj = gp.quicksum(Q[i][j] * x[i] * x[j] for i in range(dim_qubo) for j in range(dim_qubo)) + c\n",
        "mm.setObjective(obj, GRB.MINIMIZE)\n",
        "\n",
        "# Solve the model\n",
        "mm.optimize()\n",
        "\n",
        "# Print the solution\n",
        "if mm.status == GRB.OPTIMAL:\n",
        "    print(\"Optimal solution found.\")\n",
        "    solution = [int(v.X) for v in x.values()]\n",
        "    print(f\"Optimal variable values (x): {solution}\")\n",
        "    print(f\"Optimal objective value: {mm.ObjVal}\")\n",
        "else:\n",
        "    print(\"No optimal solution found.\")"
      ]
    },
    {
      "cell_type": "markdown",
      "metadata": {},
      "source": [
        "Recap of the problem and solution"
      ]
    },
    {
      "cell_type": "code",
      "execution_count": 17,
      "metadata": {},
      "outputs": [
        {
          "name": "stdout",
          "output_type": "stream",
          "text": [
            "number of counterparts:  6\n",
            "number of classes:  3\n",
            "vector of default:  [0, 1, 0, 0, 0, 1]\n",
            "number of defaults:  2\n",
            "dimension of the problem:  58\n",
            "lambda coefficients:\n",
            "100, 50, 300\n",
            "solution:\n",
            "[[1 0 0]\n",
            " [0 1 0]\n",
            " [0 1 0]\n",
            " [0 1 0]\n",
            " [0 1 0]\n",
            " [0 0 1]]\n"
          ]
        }
      ],
      "source": [
        "print(\"number of counterparts: \",n)\n",
        "print(\"number of classes: \",m)\n",
        "print(\"vector of default: \",d_vec)\n",
        "print(\"number of defaults: \",d)\n",
        "print(\"dimension of the problem: \", dim_qubo)\n",
        "print(\"lambda coefficients:\")\n",
        "print(lambda0, lambda1, lambda2, sep=', ')\n",
        "sol_nm=solution[:n*m]\n",
        "sol_nm_arr=np.array(sol_nm)\n",
        "sol_nm_arr_re=sol_nm_arr.reshape(n,m)\n",
        "print(\"solution:\")\n",
        "print(sol_nm_arr_re)"
      ]
    }
  ],
  "metadata": {
    "colab": {
      "provenance": []
    },
    "kernelspec": {
      "display_name": "qcs",
      "language": "python",
      "name": "python3"
    },
    "language_info": {
      "codemirror_mode": {
        "name": "ipython",
        "version": 3
      },
      "file_extension": ".py",
      "mimetype": "text/x-python",
      "name": "python",
      "nbconvert_exporter": "python",
      "pygments_lexer": "ipython3",
      "version": "3.13.2"
    }
  },
  "nbformat": 4,
  "nbformat_minor": 0
}
